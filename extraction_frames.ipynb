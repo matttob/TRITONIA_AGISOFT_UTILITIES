{
 "cells": [
  {
   "cell_type": "code",
   "execution_count": 2,
   "metadata": {},
   "outputs": [],
   "source": [
    "# import required packages\n",
    "import cv2\n",
    "from matplotlib import pyplot as plt\n",
    "from PIL import Image\n",
    "import io\n",
    "import math\n",
    "import csv\n",
    "import numpy as np\n",
    "import re\n",
    "import os\n",
    "from pathlib import Path\n",
    "import itertools"
   ]
  },
  {
   "cell_type": "code",
   "execution_count": 3,
   "metadata": {},
   "outputs": [],
   "source": [
    "# Enter path of highest tier of video files directory structure\n",
    "video_files_highest_directory = Path(r\"C:\\Users\\Pamela\\Desktop\\Testing\")\n",
    "# Search in all sub directories for any files with .mph extension and create list of full file paths for each video file\n",
    "video_file_paths = [str(pp) for pp in video_files_highest_directory.glob(\"**/*.mpg\")]"
   ]
  },
  {
   "cell_type": "code",
   "execution_count": 8,
   "metadata": {},
   "outputs": [
    {
     "name": "stdout",
     "output_type": "stream",
     "text": [
      "50\n",
      "3650\n",
      "50\n",
      "1000\n"
     ]
    }
   ],
   "source": [
    "for video_file_name in video_file_paths:\n",
    "\n",
    "    image_file_path = video_file_name.split('\\\\')\n",
    "    cropped_image_folder = ('\\\\'.join(map(str, image_file_path[0:-1])))\n",
    "    os.mkdir(cropped_image_folder + '\\\\FRAMES')\n",
    "    # Read the video from specified path this could clearly be changed to a file open box\n",
    "    cap = cv2.VideoCapture(video_file_name)  \n",
    "    # find length of entire video in frames\n",
    "    total_frame_number = int(cap.get(cv2.CAP_PROP_FRAME_COUNT))\n",
    "    # print(\"frames  = \" + str(total_frame_number))\n",
    "    # find frame of video\n",
    "    frame_rate=cap.get(cv2.CAP_PROP_FPS)\n",
    "    # print(\"frame rate  = \" + str(frame_rate))\n",
    "\n",
    "    \n",
    "\n",
    "\n",
    "    #  find the time at the end of video so can use this if entire video is required\n",
    "    video_end_time_mins,video_end_time_secs  = divmod(math.floor(total_frame_number / frame_rate), 60)\n",
    "\n",
    "    # Enter video file start time and end time and frame interval for frame grab \n",
    "    start_time_mins=0\n",
    "    start_time_secs=1\n",
    "    end_time_mins=video_end_time_mins\n",
    "    end_time_secs=video_end_time_secs\n",
    "    frame_interval=50\n",
    "\n",
    "\n",
    "    # find start and end frames coorresponding to start and end times\n",
    "    start_frame=math.floor((start_time_mins*60*frame_rate)+(start_time_secs*frame_rate))\n",
    "    end_frame=math.floor((end_time_mins*60*frame_rate)+(end_time_secs*frame_rate))\n",
    "\n",
    "    print(start_frame)\n",
    "    print(end_frame)\n",
    "\n",
    "\n",
    "    # Loop through specified frames \n",
    "    # for i in range(start_frame, end_frame, frame_interval):\n",
    "    for i in range(start_frame,end_frame,frame_interval):\n",
    "\n",
    "        # print(i)\n",
    "        # choose specified frame\n",
    "        cap.set(cv2.CAP_PROP_POS_FRAMES,i)\n",
    "        # read specified frame\n",
    "        ret, frame = cap.read()\n",
    "        # First crop banner text from image as otherwise this can be included in the blurr detection process and make the image appear in focus. These banners will need to be removed for agisoft proccesing anyhow\n",
    "        #set pixel value of top of cropped image\n",
    "        vert_crop_top = 89\n",
    "        #set pixel value of bottom of cropped image\n",
    "        vert_crop_bottom = -53\n",
    "        # set pixel value of left of the cropped image\n",
    "        hor_crop_left = 1\n",
    "        # set pixel value of the right of the cropped image\n",
    "        hor_crop_right = 1271\n",
    "        # Crop frame\n",
    "        crop_frame = frame[vert_crop_top:vert_crop_bottom, hor_crop_left:hor_crop_right]\n",
    "        # create time stamp for frame file name\n",
    "        fractional_mins, whole_mins = math.modf((i/frame_rate)/60)\n",
    "        # create and save jpegs\n",
    "        frame_image_name=cropped_image_folder + '\\\\' + 'FRAMES' + '\\\\' 'Frame_'+str(i) + '_' + str(round(whole_mins)) + 'mins' + '_' + str(round(fractional_mins*60)) + 'secs' + '.jpg'\n",
    "        cv2.imwrite(frame_image_name,crop_frame)\n",
    "        \n",
    "# print(frame_image_name)\n",
    "# plt.imshow(crop_frame)\n",
    "\n",
    "# plt.title('Cropped')\n",
    "# plt.show()"
   ]
  }
 ],
 "metadata": {
  "interpreter": {
   "hash": "09dd6224b7b6faff2ef706765178b1d5b1f7e8dcd240d420537e9b3eca3e5407"
  },
  "kernelspec": {
   "display_name": "Python 3.9.12 ('extraction_images')",
   "language": "python",
   "name": "python3"
  },
  "language_info": {
   "codemirror_mode": {
    "name": "ipython",
    "version": 3
   },
   "file_extension": ".py",
   "mimetype": "text/x-python",
   "name": "python",
   "nbconvert_exporter": "python",
   "pygments_lexer": "ipython3",
   "version": "3.9.12"
  },
  "orig_nbformat": 4
 },
 "nbformat": 4,
 "nbformat_minor": 2
}
