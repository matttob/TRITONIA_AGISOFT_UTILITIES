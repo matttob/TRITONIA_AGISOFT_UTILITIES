{
 "cells": [
  {
   "cell_type": "code",
   "execution_count": null,
   "metadata": {},
   "outputs": [],
   "source": [
    "# Enter path of highest tier of video files \n",
    "video_files_highest_directory = Path(r\"D:\\MetaShapeShare\\CHEVRON\\AA_DONT_CHANGE_Chevron2022\\71-15\\DATA\")\n",
    "video_file_paths = [str(pp) for pp in video_files_highest_directory.glob(\"**/*.mpg\")]\n",
    "subfolders = []\n",
    "sizes = [] \n",
    "for video_file_name in video_file_paths:\n",
    "    image_file_path = video_file_name.split('\\\\')\n",
    "    cropped_image_folder = ('/'.join(map(str, image_file_path[0:-1])))\n",
    "    # os.mkdir(cropped_image_folder + '/FRAMES')\n",
    "    subfolder = [ f.path for f in os.scandir(cropped_image_folder) if f.is_dir() ]\n",
    "    # shutil.rmtree(subfolder[0])\n",
    "    # # count files in each sub directoy\n",
    "    # size = 0\n",
    "    # if len(subfolder) >0:\n",
    "    #     for path, dirs, files in os.walk(subfolder[0]):\n",
    "    #         for f in files:\n",
    "    #             fp = os.path.join(path, f)\n",
    "    #             size += os.path.getsize(fp)\n",
    "    #     subfolders.append(subfolder)   \n",
    "    #     sizes.append(size)"
   ]
  }
 ],
 "metadata": {
  "language_info": {
   "name": "python"
  },
  "orig_nbformat": 4
 },
 "nbformat": 4,
 "nbformat_minor": 2
}
