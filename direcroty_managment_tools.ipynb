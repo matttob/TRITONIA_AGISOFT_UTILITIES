{
 "cells": [
  {
   "cell_type": "code",
   "execution_count": 2,
   "metadata": {},
   "outputs": [
    {
     "ename": "IndexError",
     "evalue": "list index out of range",
     "output_type": "error",
     "traceback": [
      "\u001b[1;31m---------------------------------------------------------------------------\u001b[0m",
      "\u001b[1;31mIndexError\u001b[0m                                Traceback (most recent call last)",
      "\u001b[1;32mw:\\CHEVRON\\TRITONIA_AGISOFT_UTILITIES\\direcroty_managment_tools.ipynb Cell 1'\u001b[0m in \u001b[0;36m<cell line: 12>\u001b[1;34m()\u001b[0m\n\u001b[0;32m     <a href='vscode-notebook-cell:/w%3A/CHEVRON/TRITONIA_AGISOFT_UTILITIES/direcroty_managment_tools.ipynb#ch0000000?line=14'>15</a>\u001b[0m \u001b[39m# os.mkdir(cropped_image_folder + '/FRAMES')\u001b[39;00m\n\u001b[0;32m     <a href='vscode-notebook-cell:/w%3A/CHEVRON/TRITONIA_AGISOFT_UTILITIES/direcroty_managment_tools.ipynb#ch0000000?line=15'>16</a>\u001b[0m subfolder \u001b[39m=\u001b[39m [ f\u001b[39m.\u001b[39mpath \u001b[39mfor\u001b[39;00m f \u001b[39min\u001b[39;00m os\u001b[39m.\u001b[39mscandir(cropped_image_folder) \u001b[39mif\u001b[39;00m f\u001b[39m.\u001b[39mis_dir() ]\n\u001b[1;32m---> <a href='vscode-notebook-cell:/w%3A/CHEVRON/TRITONIA_AGISOFT_UTILITIES/direcroty_managment_tools.ipynb#ch0000000?line=16'>17</a>\u001b[0m shutil\u001b[39m.\u001b[39mrmtree(subfolder[\u001b[39m0\u001b[39;49m])\n",
      "\u001b[1;31mIndexError\u001b[0m: list index out of range"
     ]
    }
   ],
   "source": [
    "from pathlib import Path\n",
    "import shutil\n",
    "\n",
    "\n",
    "# Enter path of highest tier of video files \n",
    "video_files_highest_directory = Path(r\"W:\\CHEVRON\\AA_DONT_CHANGE_Chevron2022\\GS-MIKE\")\n",
    "video_file_paths_mpg = [str(pp) for pp in video_files_highest_directory.glob(\"**/*.mpg\")]\n",
    "video_file_paths_asf = [str(pp) for pp in video_files_highest_directory.glob(\"**/*.asf\")]\n",
    "video_file_paths = video_file_paths_mpg + video_file_paths_asf\n",
    "subfolders = []\n",
    "sizes = [] \n",
    "for video_file_name in video_file_paths:\n",
    "    image_file_path = video_file_name.split('\\\\')\n",
    "    cropped_image_folder = ('/'.join(map(str, image_file_path[0:-1])))\n",
    "    # os.mkdir(cropped_image_folder + '/FRAMES')\n",
    "    subfolder = [ f.path for f in os.scandir(cropped_image_folder) if f.is_dir() ]\n",
    "    # shutil.rmtree(subfolder[0])\n",
    "    # # count files in each sub directoy\n",
    "    # size = 0\n",
    "    # if len(subfolder) >0:\n",
    "    #     for path, dirs, files in os.walk(subfolder[0]):\n",
    "    #         for f in files:\n",
    "    #             fp = os.path.join(path, f)\n",
    "    #             size += os.path.getsize(fp)\n",
    "    #     subfolders.append(subfolder)   \n",
    "    #     sizes.append(size)"
   ]
  }
 ],
 "metadata": {
  "interpreter": {
   "hash": "e37da7554b3ad583697b6d4faddd18a939ee6452966fb8334273511d12ae2fd8"
  },
  "kernelspec": {
   "display_name": "Python 3.9.12 ('agisoft_testing')",
   "language": "python",
   "name": "python3"
  },
  "language_info": {
   "codemirror_mode": {
    "name": "ipython",
    "version": 3
   },
   "file_extension": ".py",
   "mimetype": "text/x-python",
   "name": "python",
   "nbconvert_exporter": "python",
   "pygments_lexer": "ipython3",
   "version": "3.9.12"
  },
  "orig_nbformat": 4
 },
 "nbformat": 4,
 "nbformat_minor": 2
}
