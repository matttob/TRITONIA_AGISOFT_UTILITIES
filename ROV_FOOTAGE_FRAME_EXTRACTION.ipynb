{
 "cells": [
  {
   "cell_type": "code",
   "execution_count": 54,
   "id": "975e0aa5",
   "metadata": {},
   "outputs": [],
   "source": [
    "# import required packages\n",
    "import cv2\n",
    "from matplotlib import pyplot as plt\n",
    "from PIL import Image\n",
    "import io\n",
    "import math\n",
    "import csv\n",
    "import numpy as np\n",
    "import re\n",
    "import os\n",
    "from pathlib import Path\n",
    "import itertools"
   ]
  },
  {
   "cell_type": "code",
   "execution_count": 57,
   "id": "2ca841bd",
   "metadata": {},
   "outputs": [],
   "source": [
    "# Enter path of highest tier of video files directory structure\n",
    "video_files_highest_directory = Path(r\"C:\\Users\\Pamela\\Desktop\\TEST\")\n",
    "# Search in all sub directories for any files with .mph extension and create list of full file paths for each video file\n",
    "video_file_paths = [str(pp) for pp in video_files_highest_directory.glob(\"**/*.mpg\")]\n"
   ]
  },
  {
   "cell_type": "code",
   "execution_count": 79,
   "id": "59b22765",
   "metadata": {},
   "outputs": [
    {
     "ename": "FileExistsError",
     "evalue": "[WinError 183] Cannot create a file when that file already exists: 'C:\\\\Users\\\\Pamela\\\\Desktop\\\\TEST\\\\DATA_20120713085729000\\\\FRAMES'",
     "output_type": "error",
     "traceback": [
      "\u001b[1;31m---------------------------------------------------------------------------\u001b[0m",
      "\u001b[1;31mFileExistsError\u001b[0m                           Traceback (most recent call last)",
      "Input \u001b[1;32mIn [79]\u001b[0m, in \u001b[0;36m<cell line: 1>\u001b[1;34m()\u001b[0m\n\u001b[0;32m      3\u001b[0m image_file_path \u001b[39m=\u001b[39m video_file_name\u001b[39m.\u001b[39msplit(\u001b[39m'\u001b[39m\u001b[39m\\\\\u001b[39;00m\u001b[39m'\u001b[39m)\n\u001b[0;32m      4\u001b[0m cropped_image_folder \u001b[39m=\u001b[39m (\u001b[39m'\u001b[39m\u001b[39m\\\\\u001b[39;00m\u001b[39m'\u001b[39m\u001b[39m.\u001b[39mjoin(\u001b[39mmap\u001b[39m(\u001b[39mstr\u001b[39m, image_file_path[\u001b[39m0\u001b[39m:\u001b[39m-\u001b[39m\u001b[39m1\u001b[39m])))\n\u001b[1;32m----> 5\u001b[0m os\u001b[39m.\u001b[39;49mmkdir(cropped_image_folder \u001b[39m+\u001b[39;49m \u001b[39m'\u001b[39;49m\u001b[39m\\\\\u001b[39;49;00m\u001b[39mFRAMES\u001b[39;49m\u001b[39m'\u001b[39;49m)\n\u001b[0;32m      6\u001b[0m \u001b[39m# Read the video from specified path this could clearly be changed to a file open box\u001b[39;00m\n\u001b[0;32m      7\u001b[0m cap \u001b[39m=\u001b[39m cv2\u001b[39m.\u001b[39mVideoCapture(video_file_name)  \n",
      "\u001b[1;31mFileExistsError\u001b[0m: [WinError 183] Cannot create a file when that file already exists: 'C:\\\\Users\\\\Pamela\\\\Desktop\\\\TEST\\\\DATA_20120713085729000\\\\FRAMES'"
     ]
    }
   ],
   "source": [
    "for video_file_name in video_file_paths:\n",
    "\n",
    "    image_file_path = video_file_name.split('\\\\')\n",
    "    cropped_image_folder = ('\\\\'.join(map(str, image_file_path[0:-1])))\n",
    "    os.mkdir(cropped_image_folder + '\\\\FRAMES')\n",
    "    # Read the video from specified path this could clearly be changed to a file open box\n",
    "    cap = cv2.VideoCapture(video_file_name)  \n",
    "    # find length of entire video in frames\n",
    "    total_frame_number = int(cap.get(cv2.CAP_PROP_FRAME_COUNT))\n",
    "    # print(\"frames  = \" + str(total_frame_number))\n",
    "    # find frame of video\n",
    "    frame_rate=cap.get(cv2.CAP_PROP_FPS)\n",
    "    # print(\"frame rate  = \" + str(frame_rate))\n",
    "\n",
    "    \n",
    "\n",
    "\n",
    "    #  find the time at the end of video so can use this if entire video is required\n",
    "    video_end_time_mins,video_end_time_secs  = divmod(math.floor(total_frame_number / frame_rate), 60)\n",
    "\n",
    "    # Enter video file start time and end time and frame interval for frame grab \n",
    "    start_time_mins=0\n",
    "    start_time_secs=1\n",
    "    end_time_mins=video_end_time_mins\n",
    "    end_time_secs=video_end_time_secs\n",
    "    frame_interval=50\n",
    "\n",
    "\n",
    "    # find start and end frames coorresponding to start and end times\n",
    "    start_frame=math.floor((start_time_mins*60*frame_rate)+(start_time_secs*frame_rate))\n",
    "    end_frame=math.floor((end_time_mins*60*frame_rate)+(end_time_secs*frame_rate))\n",
    "\n",
    "    print(start_frame)\n",
    "    print(end_frame)\n",
    "\n",
    "\n",
    "    # Loop through specified frames \n",
    "    # for i in range(start_frame, end_frame, frame_interval):\n",
    "    for i in range(start_frame,end_frame,frame_interval):\n",
    "\n",
    "        # print(i)\n",
    "        # choose specified frame\n",
    "        cap.set(cv2.CAP_PROP_POS_FRAMES,i)\n",
    "        # read specified frame\n",
    "        ret, frame = cap.read()\n",
    "        # First crop banner text from image as otherwise this can be included in the blurr detection process and make the image appear in focus. These banners will need to be removed for agisoft proccesing anyhow\n",
    "        #set pixel value of top of cropped image\n",
    "        vert_crop_start = 85\n",
    "        #set pixel value of bottom of cropped image\n",
    "        vert_crop_end = frame.shape[0]-75\n",
    "        # Crop frame\n",
    "        crop_frame = frame[vert_crop_start:vert_crop_end, 1:700]\n",
    "        # create time stamp for frame file name\n",
    "        fractional_mins, whole_mins = math.modf((i/frame_rate)/60)\n",
    "        # create and save jpegs\n",
    "        frame_image_name=cropped_image_folder + '\\\\' + 'FRAMES' + '\\\\' 'Frame_'+str(i) + '_' + str(round(whole_mins)) + 'mins' + '_' + str(round(fractional_mins*60)) + 'secs' + '.jpg'\n",
    "        cv2.imwrite(frame_image_name,frame)\n",
    "        \n",
    "# print(frame_image_name)\n",
    "# plt.imshow(crop_frame)\n",
    "\n",
    "# plt.title('Cropped')\n",
    "# plt.show()"
   ]
  },
  {
   "cell_type": "code",
   "execution_count": null,
   "id": "78f05a7c",
   "metadata": {},
   "outputs": [],
   "source": []
  },
  {
   "cell_type": "code",
   "execution_count": null,
   "id": "ca885879",
   "metadata": {},
   "outputs": [],
   "source": []
  }
 ],
 "metadata": {
  "interpreter": {
   "hash": "0e1dba4fba14b030b7a7ec590ceeaf7152bcd0937e7294e9820a98872835fff4"
  },
  "kernelspec": {
   "display_name": "Python 3.9.12 ('agisoft_testing')",
   "language": "python",
   "name": "python3"
  },
  "language_info": {
   "codemirror_mode": {
    "name": "ipython",
    "version": 3
   },
   "file_extension": ".py",
   "mimetype": "text/x-python",
   "name": "python",
   "nbconvert_exporter": "python",
   "pygments_lexer": "ipython3",
   "version": "3.9.12"
  }
 },
 "nbformat": 4,
 "nbformat_minor": 5
}
